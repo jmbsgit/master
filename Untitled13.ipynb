{
 "cells": [
  {
   "cell_type": "code",
   "execution_count": 1,
   "metadata": {},
   "outputs": [
    {
     "data": {
      "application/vnd.jupyter.widget-view+json": {
       "model_id": "6823ecad138a4adba34957924ccc5776",
       "version_major": 2,
       "version_minor": 0
      },
      "text/html": [
       "<p>Failed to display Jupyter Widget of type <code>interactive</code>.</p>\n",
       "<p>\n",
       "  If you're reading this message in the Jupyter Notebook or JupyterLab Notebook, it may mean\n",
       "  that the widgets JavaScript is still loading. If this message persists, it\n",
       "  likely means that the widgets JavaScript library is either not installed or\n",
       "  not enabled. See the <a href=\"https://ipywidgets.readthedocs.io/en/stable/user_install.html\">Jupyter\n",
       "  Widgets Documentation</a> for setup instructions.\n",
       "</p>\n",
       "<p>\n",
       "  If you're reading this message in another frontend (for example, a static\n",
       "  rendering on GitHub or <a href=\"https://nbviewer.jupyter.org/\">NBViewer</a>),\n",
       "  it may mean that your frontend doesn't currently support widgets.\n",
       "</p>\n"
      ],
      "text/plain": [
       "interactive(children=(FloatSlider(value=0.0, description=u'm', max=2.0, min=-2.0), FloatSlider(value=0.0, description=u'b', max=3.0, min=-3.0, step=0.5), Output(layout=Layout(height=u'350px'))), _dom_classes=('widget-interact',))"
      ]
     },
     "metadata": {},
     "output_type": "display_data"
    }
   ],
   "source": [
    "%matplotlib inline\n",
    "from ipywidgets import interactive\n",
    "import matplotlib.pyplot as plt\n",
    "import numpy as np\n",
    "\n",
    "def f(m, b):\n",
    "    plt.figure(2)\n",
    "    x = np.linspace(-10, 10, num=1000)\n",
    "    plt.plot(x, m * x + b)\n",
    "    plt.ylim(-5, 5)\n",
    "    plt.show()\n",
    "\n",
    "interactive_plot = interactive(f, m=(-2.0, 2.0), b=(-3, 3, 0.5))\n",
    "output = interactive_plot.children[-1]\n",
    "output.layout.height = '350px'\n",
    "interactive_plot"
   ]
  },
  {
   "cell_type": "code",
   "execution_count": null,
   "metadata": {
    "collapsed": true
   },
   "outputs": [],
   "source": []
  },
  {
   "cell_type": "code",
   "execution_count": null,
   "metadata": {
    "collapsed": true
   },
   "outputs": [],
   "source": []
  },
  {
   "cell_type": "code",
   "execution_count": null,
   "metadata": {
    "collapsed": true
   },
   "outputs": [],
   "source": []
  },
  {
   "cell_type": "code",
   "execution_count": null,
   "metadata": {
    "collapsed": true
   },
   "outputs": [],
   "source": []
  }
 ],
 "metadata": {
  "kernelspec": {
   "display_name": "Python 2",
   "language": "python",
   "name": "python2"
  },
  "language_info": {
   "codemirror_mode": {
    "name": "ipython",
    "version": 2
   },
   "file_extension": ".py",
   "mimetype": "text/x-python",
   "name": "python",
   "nbconvert_exporter": "python",
   "pygments_lexer": "ipython2",
   "version": "2.7.13"
  },
  "widgets": {
   "application/vnd.jupyter.widget-state+json": {
    "state": {
     "0b5b86d6c9a74ddebcd14c65785d1395": {
      "model_module": "@jupyter-widgets/output",
      "model_module_version": "1.0.0",
      "model_name": "OutputModel",
      "state": {
       "layout": "IPY_MODEL_6fcc29e027154e17b44598c414b600d1",
       "outputs": [
        {
         "data": {
          "image/png": "iVBORw0KGgoAAAANSUhEUgAAAXYAAAD8CAYAAABjAo9vAAAABHNCSVQICAgIfAhkiAAAAAlwSFlz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\no9MaowAAAABJRU5ErkJggg==\n",
          "text/plain": "<matplotlib.figure.Figure at 0xac4f668>"
         },
         "metadata": {},
         "output_type": "display_data"
        }
       ]
      }
     },
     "6823ecad138a4adba34957924ccc5776": {
      "model_module": "@jupyter-widgets/controls",
      "model_module_version": "1.1.0",
      "model_name": "VBoxModel",
      "state": {
       "_dom_classes": [
        "widget-interact"
       ],
       "children": [
        "IPY_MODEL_e8de8ee153ce42c899aa6a79c54799e3",
        "IPY_MODEL_80eaf803fef5495291434bd544335649",
        "IPY_MODEL_0b5b86d6c9a74ddebcd14c65785d1395"
       ],
       "layout": "IPY_MODEL_ffca03c12ce84b46aa0011994170a418"
      }
     },
     "6fcc29e027154e17b44598c414b600d1": {
      "model_module": "@jupyter-widgets/base",
      "model_module_version": "1.0.0",
      "model_name": "LayoutModel",
      "state": {
       "height": "350px"
      }
     },
     "80eaf803fef5495291434bd544335649": {
      "model_module": "@jupyter-widgets/controls",
      "model_module_version": "1.1.0",
      "model_name": "FloatSliderModel",
      "state": {
       "description": "b",
       "layout": "IPY_MODEL_efcb47726e974f6f994e586a962a61a6",
       "max": 3,
       "min": -3,
       "step": 0.5,
       "style": "IPY_MODEL_c17482f326cd47b7bfc6a8b0b8ef0501"
      }
     },
     "90ac8a6d79c54de0ab61a4b940efc493": {
      "model_module": "@jupyter-widgets/controls",
      "model_module_version": "1.1.0",
      "model_name": "SliderStyleModel",
      "state": {
       "description_width": ""
      }
     },
     "c17482f326cd47b7bfc6a8b0b8ef0501": {
      "model_module": "@jupyter-widgets/controls",
      "model_module_version": "1.1.0",
      "model_name": "SliderStyleModel",
      "state": {
       "description_width": ""
      }
     },
     "d1a0b3005bb640fe9cfaba2426582512": {
      "model_module": "@jupyter-widgets/base",
      "model_module_version": "1.0.0",
      "model_name": "LayoutModel",
      "state": {}
     },
     "e8de8ee153ce42c899aa6a79c54799e3": {
      "model_module": "@jupyter-widgets/controls",
      "model_module_version": "1.1.0",
      "model_name": "FloatSliderModel",
      "state": {
       "description": "m",
       "layout": "IPY_MODEL_d1a0b3005bb640fe9cfaba2426582512",
       "max": 2,
       "min": -2,
       "step": 0.1,
       "style": "IPY_MODEL_90ac8a6d79c54de0ab61a4b940efc493",
       "value": -0.5
      }
     },
     "efcb47726e974f6f994e586a962a61a6": {
      "model_module": "@jupyter-widgets/base",
      "model_module_version": "1.0.0",
      "model_name": "LayoutModel",
      "state": {}
     },
     "ffca03c12ce84b46aa0011994170a418": {
      "model_module": "@jupyter-widgets/base",
      "model_module_version": "1.0.0",
      "model_name": "LayoutModel",
      "state": {}
     }
    },
    "version_major": 2,
    "version_minor": 0
   }
  }
 },
 "nbformat": 4,
 "nbformat_minor": 2
}
