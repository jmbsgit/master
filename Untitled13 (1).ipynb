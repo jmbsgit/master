{
 "cells": [
  {
   "cell_type": "code",
   "execution_count": 3,
   "metadata": {},
   "outputs": [
    {
     "name": "stdout",
     "output_type": "stream",
     "text": [
      "f(x):x\n",
      "x0:-10\n",
      "x1:10\n",
      "{'x': 0.0}\n"
     ]
    },
    {
     "data": {
      "application/vnd.jupyter.widget-view+json": {
       "model_id": "71b1efc069ba4538aff736976d9d2dd4",
       "version_major": 2,
       "version_minor": 0
      },
      "text/html": [
       "<p>Failed to display Jupyter Widget of type <code>interactive</code>.</p>\n",
       "<p>\n",
       "  If you're reading this message in the Jupyter Notebook or JupyterLab Notebook, it may mean\n",
       "  that the widgets JavaScript is still loading. If this message persists, it\n",
       "  likely means that the widgets JavaScript library is either not installed or\n",
       "  not enabled. See the <a href=\"https://ipywidgets.readthedocs.io/en/stable/user_install.html\">Jupyter\n",
       "  Widgets Documentation</a> for setup instructions.\n",
       "</p>\n",
       "<p>\n",
       "  If you're reading this message in another frontend (for example, a static\n",
       "  rendering on GitHub or <a href=\"https://nbviewer.jupyter.org/\">NBViewer</a>),\n",
       "  it may mean that your frontend doesn't currently support widgets.\n",
       "</p>\n"
      ],
      "text/plain": [
       "interactive(children=(FloatSlider(value=0.0, description=u'm', max=2.0, min=-2.0), FloatSlider(value=0.0, description=u'b', max=3.0, min=-3.0, step=0.5), Output(layout=Layout(height=u'350px'))), _dom_classes=('widget-interact',))"
      ]
     },
     "metadata": {},
     "output_type": "display_data"
    }
   ],
   "source": [
    "# -*- coding: utf-8 -*-\n",
    "\"\"\"\n",
    "Created on Wed Dec 20 11:51:13 2017\n",
    "\n",
    "@author: josemaria.bonelo\n",
    "\"\"\"\n",
    "\n",
    "__author__ = 'josemaria.bonelo'\n",
    " \n",
    "import ipywidgets as widgets    \n",
    "    \n",
    "ERROR = 1E-6\n",
    "def ff1(x):\n",
    "    return 1+x**3\n",
    "#Entradas\n",
    "ec = raw_input('f(x):')\n",
    "x0 = float(raw_input('x0:'))\n",
    "x1 = float(raw_input('x1:'))\n",
    "#Proceso\n",
    "f0 = eval(ec, {'x': x0}) #f(x0)\n",
    "f1 = eval(ec, {'x': x1}) #f(x1)\n",
    "f2 = 1E10\n",
    "if f0 * f1 < 0:\n",
    "    while abs(f2) > ERROR:\n",
    "        x2 = (x0 + x1) / 2\n",
    "        f2 = eval(ec, {'x': x2}) #f(x2)\n",
    "        if f1 * f2 < 0:\n",
    "            x0 = x2\n",
    "        if f0 * f2 < 0:\n",
    "            x1 = x2\n",
    "    respuesta = {'x': x2}\n",
    "else:\n",
    "    respuesta = 'Datos incorrectos'\n",
    "#Salidas\n",
    "print respuesta\n",
    "def ff2(x):\n",
    "    return ec\n",
    "import pylab as pl\n",
    "import numpy as np\n",
    "\n",
    "X = np.linspace(-np.pi, np.pi, 256, endpoint=True)\n",
    "\n",
    "C, S = np.cos(X), np.sin(X)\n",
    "#pl.plot(X, C)\n",
    "#pl.plot(X, S)\n",
    "\n",
    "pl.show()\n",
    "\n",
    "def ff3(x):\n",
    "    return eval(ec)\n",
    "\n",
    "x = range(-10,10)\n",
    "pl.plot(x,[ff3(i) for i in x])\n",
    "%matplotlib inline\n",
    "from ipywidgets import interactive\n",
    "import matplotlib.pyplot as plt\n",
    "import numpy as np\n",
    "\n",
    "def f(m, b):\n",
    "    plt.figure(2)\n",
    "    x = np.linspace(-10, 10, num=1000)\n",
    "    plt.plot(x, m * x + b)\n",
    "    plt.ylim(-5, 5)\n",
    "    plt.show()\n",
    "\n",
    "interactive_plot = interactive(f, m=(-2.0, 2.0), b=(-3, 3, 0.5))\n",
    "output = interactive_plot.children[-1]\n",
    "output.layout.height = '350px'\n",
    "interactive_plot"
   ]
  },
  {
   "cell_type": "code",
   "execution_count": null,
   "metadata": {
    "collapsed": true
   },
   "outputs": [],
   "source": []
  },
  {
   "cell_type": "code",
   "execution_count": null,
   "metadata": {
    "collapsed": true
   },
   "outputs": [],
   "source": []
  }
 ],
 "metadata": {
  "kernelspec": {
   "display_name": "Python 2",
   "language": "python",
   "name": "python2"
  },
  "language_info": {
   "codemirror_mode": {
    "name": "ipython",
    "version": 2
   },
   "file_extension": ".py",
   "mimetype": "text/x-python",
   "name": "python",
   "nbconvert_exporter": "python",
   "pygments_lexer": "ipython2",
   "version": "2.7.13"
  },
  "widgets": {
   "application/vnd.jupyter.widget-state+json": {
    "state": {},
    "version_major": 2,
    "version_minor": 0
   }
  }
 },
 "nbformat": 4,
 "nbformat_minor": 2
}
