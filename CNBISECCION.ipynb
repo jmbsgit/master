{
  "nbformat": 4,
  "nbformat_minor": 0,
  "metadata": {
    "colab": {
      "name": "CNBISECCION.ipynb",
      "version": "0.3.2",
      "views": {},
      "default_view": {},
      "provenance": [
        {
          "file_id": "1Z41m48_xoJoZqxVMcTW0jWvF4mhZrFf6",
          "timestamp": 1527071323084
        }
      ],
      "collapsed_sections": []
    },
    "kernelspec": {
      "name": "python3",
      "display_name": "Python 3"
    }
  },
  "cells": [
    {
      "metadata": {
        "id": "GxDQ2vazoyoB",
        "colab_type": "text"
      },
      "cell_type": "markdown",
      "source": [
        "**RAICES REALES DE ECUACIONES NO LINEALES**\n",
        "\n",
        "\n",
        "     Metodo de Bisección"
      ]
    },
    {
      "metadata": {
        "id": "z3TvCZiLoMRS",
        "colab_type": "code",
        "colab": {
          "autoexec": {
            "startup": false,
            "wait_interval": 0
          }
        }
      },
      "cell_type": "code",
      "source": [
        "def biseccion(f, a, b, e):   \n",
        "  while (b-a>=e):   \n",
        "    c=(a+b)/2         \n",
        "    if f(c)==0:  \n",
        "      return c\n",
        "    else:\n",
        "          if f(a)*f(c)>0:   \n",
        "             a=c   \n",
        "          else: \n",
        "             b=c   \n",
        "              \n",
        "    return c \n",
        " "
      ],
      "execution_count": 0,
      "outputs": []
    },
    {
      "metadata": {
        "id": "RD03_MP3mqCl",
        "colab_type": "text"
      },
      "cell_type": "markdown",
      "source": [
        "Ejemplo:\n",
        "\n",
        "   Usando la función bisección calculemos una raíz real de la ecuación\n",
        "                                                                                              $f(x)=xe^x-\\pi=0$\n",
        "            \n",
        "               \n",
        "  Por simple inspección, podemos observar que f es continua y ademas $f(0)<0, f(2)>0$. Por tanto se elije como intervalo inicial [0,2]."
      ]
    },
    {
      "metadata": {
        "id": "R0R_dnyhoZM6",
        "colab_type": "code",
        "colab": {
          "autoexec": {
            "startup": false,
            "wait_interval": 0
          },
          "base_uri": "https://localhost:8080/",
          "height": 34
        },
        "outputId": "0cfbe484-1422-4c5c-d8cf-ec52740af13e",
        "executionInfo": {
          "status": "ok",
          "timestamp": 1527235980508,
          "user_tz": -120,
          "elapsed": 564,
          "user": {
            "displayName": "JOSE MARIA BONELO SANCHEZ",
            "photoUrl": "https://lh3.googleusercontent.com/a/default-user=s128",
            "userId": "116475677293139999278"
          }
        }
      },
      "cell_type": "code",
      "source": [
        "import math\n",
        "def f(x): return x**(x)-math.pi\n",
        "c=biseccion(f,0,2,0.000001)\n",
        "c\n",
        "f(c)"
      ],
      "execution_count": 8,
      "outputs": [
        {
          "output_type": "execute_result",
          "data": {
            "text/plain": [
              "-2.141592653589793"
            ]
          },
          "metadata": {
            "tags": []
          },
          "execution_count": 8
        }
      ]
    },
    {
      "metadata": {
        "id": "KYwn49KS58XE",
        "colab_type": "text"
      },
      "cell_type": "markdown",
      "source": [
        "Ejemplo:\n",
        "\n",
        "   Encontrar las intersecciones en el primer cuadrante  de las funciones :\n",
        "                                                                                              $f(x)=4+cos(x+1)$,\n",
        "                                                                                             $g(x)=e^xsen(x)$\n",
        "            \n",
        "               \n",
        "  Representar las funciones visualizar las intersecciones."
      ]
    },
    {
      "metadata": {
        "id": "648U9z2w6qKB",
        "colab_type": "code",
        "colab": {
          "autoexec": {
            "startup": false,
            "wait_interval": 0
          },
          "base_uri": "https://localhost:8080/",
          "height": 347
        },
        "outputId": "42084087-ab13-4933-a475-89488dde001b",
        "executionInfo": {
          "status": "ok",
          "timestamp": 1527061128013,
          "user_tz": -120,
          "elapsed": 737,
          "user": {
            "displayName": "JOSE MARIA BONELO SANCHEZ",
            "photoUrl": "https://lh3.googleusercontent.com/a/default-user=s128",
            "userId": "116475677293139999278"
          }
        }
      },
      "cell_type": "code",
      "source": [
        "from pylab import*\n",
        "x=arange(0,3.5,0.1)\n",
        "f=4+x*cos(x+1)\n",
        "g=exp(x)*sin(x)\n",
        "plot(x,f,'b')\n",
        "plot(x,g,'r')\n",
        "grid(True)\n",
        "show()"
      ],
      "execution_count": 0,
      "outputs": [
        {
          "output_type": "display_data",
          "data": {
            "image/png": "[encoded data removed]",
            "text/plain": [
              "<matplotlib.figure.Figure at 0x7fcaa7189550>"
            ]
          },
          "metadata": {
            "tags": []
          }
        }
      ]
    },
    {
      "metadata": {
        "id": "_4MTN7ueEHsU",
        "colab_type": "text"
      },
      "cell_type": "markdown",
      "source": [
        "Las intersecciones son las raíces de la ecuación h(x) = g(x)-f(x) = 0\n",
        "\n",
        "El cálculo de las raíces se realiza con el método de la Bisección con E= 0.000001"
      ]
    },
    {
      "metadata": {
        "id": "7OtzHvY55X0V",
        "colab_type": "code",
        "colab": {
          "autoexec": {
            "startup": false,
            "wait_interval": 0
          }
        }
      },
      "cell_type": "code",
      "source": [
        "def h(x): return exp(x)*sin(x)-4-x*cos(x+1)\n",
        "r=biseccion(h,1,1.5,0.000001)\n",
        "r \n",
        "r=biseccion(h,3,3.2,0.000001)"
      ],
      "execution_count": 0,
      "outputs": []
    },
    {
      "metadata": {
        "id": "f6D0JYBBoWmF",
        "colab_type": "code",
        "colab": {
          "autoexec": {
            "startup": false,
            "wait_interval": 0
          },
          "base_uri": "https://localhost:8080/",
          "height": 355
        },
        "outputId": "501a5891-3e4c-44fa-81e0-6b5014e0a7a1",
        "executionInfo": {
          "status": "ok",
          "timestamp": 1527060558805,
          "user_tz": -120,
          "elapsed": 722,
          "user": {
            "displayName": "JOSE MARIA BONELO SANCHEZ",
            "photoUrl": "https://lh3.googleusercontent.com/a/default-user=s128",
            "userId": "116475677293139999278"
          }
        }
      },
      "cell_type": "code",
      "source": [
        "from sympy import*    \n",
        "x=Symbol('x')     \n",
        "f=250-192*x+28*x**2-x**3  \n",
        "plot (f,(x,0,20))   \n",
        "r=solve(f)\n",
        "r\n",
        "r[0].evalf(5),r[1].evalf(5),r[2].evalf(5)\n",
        "from math import* \n",
        "\n",
        "def f(x): return x*exp(x)-pi \n",
        "c=biseccion(f,7,10,0.000001) \n",
        "c\n",
        "f(c)"
      ],
      "execution_count": 0,
      "outputs": [
        {
          "output_type": "display_data",
          "data": {
            "image/png": "[encoded data removed]",
            "text/plain": [
              "<matplotlib.figure.Figure at 0x7fcaa40aa2e8>"
            ]
          },
          "metadata": {
            "tags": []
          }
        },
        {
          "output_type": "execute_result",
          "data": {
            "text/plain": [
              "41772.39354988905"
            ]
          },
          "metadata": {
            "tags": []
          },
          "execution_count": 9
        }
      ]
    },
    {
      "metadata": {
        "id": "Yc-grx7C570C",
        "colab_type": "text"
      },
      "cell_type": "markdown",
      "source": [
        ""
      ]
    },
    {
      "metadata": {
        "id": "0na_leIOE8iU",
        "colab_type": "text"
      },
      "cell_type": "markdown",
      "source": [
        "Método de Punto Fijo"
      ]
    },
    {
      "metadata": {
        "id": "Zl2wX-UbFDRr",
        "colab_type": "code",
        "colab": {
          "autoexec": {
            "startup": false,
            "wait_interval": 0
          }
        }
      },
      "cell_type": "code",
      "source": [
        ""
      ],
      "execution_count": 0,
      "outputs": []
    },
    {
      "metadata": {
        "id": "OAVzY2jWFY_t",
        "colab_type": "text"
      },
      "cell_type": "markdown",
      "source": [
        ""
      ]
    },
    {
      "metadata": {
        "id": "WePltx5qup8x",
        "colab_type": "text"
      },
      "cell_type": "markdown",
      "source": [
        "Calcule una raíz real de la misma ecuación f(x) = e^x - πx = 0 con el método del punto fijo con otra forma de la ecuación de recurrencia x=g(x). \n",
        " \n",
        "Para este ejemplo se decide usar la segunda forma:  x = g(x) = ln(πx) \n",
        "\n"
      ]
    },
    {
      "metadata": {
        "id": "q61HiC4JFeHQ",
        "colab_type": "code",
        "colab": {
          "autoexec": {
            "startup": false,
            "wait_interval": 0
          },
          "base_uri": "https://localhost:8080/",
          "height": 102
        },
        "outputId": "929292f3-99a5-47d8-9c47-34ba702a3389",
        "executionInfo": {
          "status": "ok",
          "timestamp": 1527063770942,
          "user_tz": -120,
          "elapsed": 740,
          "user": {
            "displayName": "JOSE MARIA BONELO SANCHEZ",
            "photoUrl": "https://lh3.googleusercontent.com/a/default-user=s128",
            "userId": "116475677293139999278"
          }
        }
      },
      "cell_type": "code",
      "source": [
        "def g(x): return log(pi*x)\n",
        "x=1.6\t#Valor inicial para la segunda raíz\n",
        "x=g(x)\n",
        "print(x) \n",
        "x=g(x)\n",
        "print(x) \n",
        "x=g(x)\n",
        "print(x)\n",
        "x=g(x)\n",
        "print(x)\n",
        "x=g(x)\n",
        "print(x)"
      ],
      "execution_count": 0,
      "outputs": [
        {
          "output_type": "stream",
          "text": [
            "1.6147335150951356\n",
            "1.6238998227759673\n",
            "1.62956044020348\n",
            "1.6330401957141376\n",
            "1.63517331417909\n"
          ],
          "name": "stdout"
        }
      ]
    },
    {
      "metadata": {
        "id": "tliqVg1yF_Q0",
        "colab_type": "code",
        "colab": {
          "autoexec": {
            "startup": false,
            "wait_interval": 0
          }
        }
      },
      "cell_type": "code",
      "source": [
        ""
      ],
      "execution_count": 0,
      "outputs": []
    },
    {
      "metadata": {
        "id": "v-hcwqftGI5F",
        "colab_type": "text"
      },
      "cell_type": "markdown",
      "source": [
        "Método de Newton"
      ]
    },
    {
      "metadata": {
        "id": "qsrpZoBfwFjG",
        "colab_type": "code",
        "colab": {
          "autoexec": {
            "startup": false,
            "wait_interval": 0
          },
          "base_uri": "https://localhost:8080/",
          "height": 355
        },
        "outputId": "12c4f430-ba26-46f8-b61e-35555a047da2",
        "executionInfo": {
          "status": "ok",
          "timestamp": 1527074952004,
          "user_tz": -120,
          "elapsed": 1093,
          "user": {
            "displayName": "JOSE MARIA BONELO SANCHEZ",
            "photoUrl": "https://lh3.googleusercontent.com/a/default-user=s128",
            "userId": "116475677293139999278"
          }
        }
      },
      "cell_type": "code",
      "source": [
        "from sympy import*\n",
        "x=Symbol('x') \n",
        "f=exp(x)-pi*x\n",
        "plot(f,(x,0,2))\n",
        "df=diff(f,x)\n",
        "r=0.5 #(colocar el valor inicial)\n",
        "r=r-float(f.subs(x,r))/float(df.subs(x,r))\n",
        "print(r) \n",
        "\n",
        " "
      ],
      "execution_count": 14,
      "outputs": [
        {
          "output_type": "display_data",
          "data": {
            "image/png": "[encoded data removed]",
            "text/plain": [
              "<matplotlib.figure.Figure at 0x7f4c4f0223c8>"
            ]
          },
          "metadata": {
            "tags": []
          }
        },
        {
          "output_type": "stream",
          "text": [
            "0.552198029112459\n"
          ],
          "name": "stdout"
        }
      ]
    },
    {
      "metadata": {
        "id": "3DX_SQ2-wzo8",
        "colab_type": "code",
        "colab": {
          "autoexec": {
            "startup": false,
            "wait_interval": 0
          },
          "base_uri": "https://localhost:8080/",
          "height": 34
        },
        "outputId": "c690ce35-ddc3-4ff3-c725-e3ad6c5bdd06",
        "executionInfo": {
          "status": "ok",
          "timestamp": 1527075010755,
          "user_tz": -120,
          "elapsed": 727,
          "user": {
            "displayName": "JOSE MARIA BONELO SANCHEZ",
            "photoUrl": "https://lh3.googleusercontent.com/a/default-user=s128",
            "userId": "116475677293139999278"
          }
        }
      },
      "cell_type": "code",
      "source": [
        "float(f.subs(x,r))\t#Verificar si f(r) = 0"
      ],
      "execution_count": 15,
      "outputs": [
        {
          "output_type": "execute_result",
          "data": {
            "text/plain": [
              "0.0022856769032013912"
            ]
          },
          "metadata": {
            "tags": []
          },
          "execution_count": 15
        }
      ]
    },
    {
      "metadata": {
        "id": "0HSHiAy59E2w",
        "colab_type": "text"
      },
      "cell_type": "markdown",
      "source": [
        "Si se comienza en 1.5 se obtiene la otra raiz."
      ]
    },
    {
      "metadata": {
        "id": "pAR061Cy8_uI",
        "colab_type": "code",
        "colab": {
          "autoexec": {
            "startup": false,
            "wait_interval": 0
          },
          "base_uri": "https://localhost:8080/",
          "height": 355
        },
        "outputId": "1a596fec-db6f-4255-9e27-c25672d8ab6c",
        "executionInfo": {
          "status": "ok",
          "timestamp": 1527078238382,
          "user_tz": -120,
          "elapsed": 752,
          "user": {
            "displayName": "JOSE MARIA BONELO SANCHEZ",
            "photoUrl": "https://lh3.googleusercontent.com/a/default-user=s128",
            "userId": "116475677293139999278"
          }
        }
      },
      "cell_type": "code",
      "source": [
        "from sympy import*\n",
        "x=Symbol('x') \n",
        "f=exp(x)-pi*x\n",
        "plot(f,(x,0,2))\n",
        "df=diff(f,x)\n",
        "r=1.5 #(colocar el valor inicial)\n",
        "r=r-float(f.subs(x,r))/float(df.subs(x,r))\n",
        "print(r) "
      ],
      "execution_count": 16,
      "outputs": [
        {
          "output_type": "display_data",
          "data": {
            "image/png": "[encoded data removed]",
            "text/plain": [
              "<matplotlib.figure.Figure at 0x7f4c4cfbccc0>"
            ]
          },
          "metadata": {
            "tags": []
          }
        },
        {
          "output_type": "stream",
          "text": [
            "1.6721517251769213\n"
          ],
          "name": "stdout"
        }
      ]
    },
    {
      "metadata": {
        "id": "7tNT4EbSGMiK",
        "colab_type": "code",
        "colab": {
          "autoexec": {
            "startup": false,
            "wait_interval": 0
          },
          "base_uri": "https://localhost:8080/",
          "height": 389
        },
        "outputId": "671998db-5e86-436e-8d73-4bef99109594",
        "executionInfo": {
          "status": "ok",
          "timestamp": 1527073635666,
          "user_tz": -120,
          "elapsed": 1210,
          "user": {
            "displayName": "JOSE MARIA BONELO SANCHEZ",
            "photoUrl": "https://lh3.googleusercontent.com/a/default-user=s128",
            "userId": "116475677293139999278"
          }
        }
      },
      "cell_type": "code",
      "source": [
        "from sympy import*\n",
        "x=Symbol('x') \n",
        "f=x**2\n",
        "df=diff(f,x)\n",
        "r=1 #(colocar el valor inicial)\n",
        "r=r-float(f.subs(x,r))/float(df.subs(x,r))\n",
        "print(r) \n",
        "plot(f,(x,0,3))\n",
        " "
      ],
      "execution_count": 13,
      "outputs": [
        {
          "output_type": "stream",
          "text": [
            "0.5\n"
          ],
          "name": "stdout"
        },
        {
          "output_type": "display_data",
          "data": {
            "image/png": "[encoded data removed]",
            "text/plain": [
              "<matplotlib.figure.Figure at 0x7f4c4f2619e8>"
            ]
          },
          "metadata": {
            "tags": []
          }
        },
        {
          "output_type": "execute_result",
          "data": {
            "text/plain": [
              "<sympy.plotting.plot.Plot at 0x7f4c50065f60>"
            ]
          },
          "metadata": {
            "tags": []
          },
          "execution_count": 13
        }
      ]
    },
    {
      "metadata": {
        "id": "qp7injEr9oha",
        "colab_type": "text"
      },
      "cell_type": "markdown",
      "source": [
        "Ejemplo. Se propone el siguiente modelo para describir la demanda de un producto, en donde x es tiempo en meses:\n",
        "$d(x)=20x e^{-0.075 x}-80=0$\n",
        "\n",
        "Encuentre el valor de x para el cual la demanda alcanza por primera vez el valor de 80 unidades. Use el método de Newton para los cálculos. Elija el valor inicial del gráfico y muestre los valores intermedios.\n",
        "\n"
      ]
    },
    {
      "metadata": {
        "id": "gTL9ovC5-GrX",
        "colab_type": "code",
        "colab": {
          "autoexec": {
            "startup": false,
            "wait_interval": 0
          },
          "base_uri": "https://localhost:8080/",
          "height": 338
        },
        "outputId": "fc5ae39e-90b3-4a08-caac-bfdf20033a9c",
        "executionInfo": {
          "status": "ok",
          "timestamp": 1527078646144,
          "user_tz": -120,
          "elapsed": 776,
          "user": {
            "displayName": "JOSE MARIA BONELO SANCHEZ",
            "photoUrl": "https://lh3.googleusercontent.com/a/default-user=s128",
            "userId": "116475677293139999278"
          }
        }
      },
      "cell_type": "code",
      "source": [
        "from sympy import*\n",
        "x=Symbol('x')\n",
        "f=20*x*exp(-0.075*x)-80\n",
        "plot(f,(x,0,50))\n",
        "r=5\n",
        "df=diff(f,x)\n",
        "r=r-float(f.subs(x,r))/float(df.subs(x,r))\n",
        "r \n",
        "r=r-float(f.subs(x,r))/float(df.subs(x,r))\n",
        "r\n",
        "r=r-float(f.subs(x,r))/float(df.subs(x,r))\n",
        "r\n",
        "r=r-float(f.subs(x,r))/float(df.subs(x,r))\n",
        "r\n",
        "r=r-float(f.subs(x,r))/float(df.subs(x,r))\n",
        "r\n",
        "r=r-float(f.subs(x,r))/float(df.subs(x,r))\n",
        "r\n",
        "r=r-float(f.subs(x,r))/float(df.subs(x,r))\n",
        "\n",
        "\n",
        "\n"
      ],
      "execution_count": 18,
      "outputs": [
        {
          "output_type": "display_data",
          "data": {
            "image/png": "[encoded data removed]",
            "text/plain": [
              "<matplotlib.figure.Figure at 0x7f4c4cf35828>"
            ]
          },
          "metadata": {
            "tags": []
          }
        }
      ]
    },
    {
      "metadata": {
        "id": "F0SWjlXa-sIw",
        "colab_type": "code",
        "colab": {
          "autoexec": {
            "startup": false,
            "wait_interval": 0
          }
        }
      },
      "cell_type": "code",
      "source": [
        ""
      ],
      "execution_count": 0,
      "outputs": []
    },
    {
      "metadata": {
        "id": "z6cZUQAw-3_R",
        "colab_type": "text"
      },
      "cell_type": "markdown",
      "source": [
        "Ejemplo. Una partícula se mueve en el plano X - Y de acuerdo con las ecuaciones paramétricas siguientes, donde t ∈ [0, 1] es tiempo:\n",
        "\n",
        "$x(t)=te^{t}; y(t)=1+te^{2t}$\n",
        "\n",
        "Con la fórmula de Newton calcule el tiempo en el que la partícula está más cerca de (1,1)\n",
        "\n",
        "Distancia de un punto (x, y) al punto (1, 1) :\t\n",
        " \n",
        "  $d =\\sqrt{(x(t)-1)^2-(y(t)-1)^2}$\n",
        "\n",
        "Para encontrar la menor distancia, debe resolverse la ecuación: f(t) = d’(t) = 0"
      ]
    },
    {
      "metadata": {
        "id": "22PdpkNzAJzg",
        "colab_type": "code",
        "colab": {
          "autoexec": {
            "startup": false,
            "wait_interval": 0
          },
          "base_uri": "https://localhost:8080/",
          "height": 364
        },
        "outputId": "b34ab7f3-82b6-4978-a225-bed8ae66551c",
        "executionInfo": {
          "status": "ok",
          "timestamp": 1527079098654,
          "user_tz": -120,
          "elapsed": 713,
          "user": {
            "displayName": "JOSE MARIA BONELO SANCHEZ",
            "photoUrl": "https://lh3.googleusercontent.com/a/default-user=s128",
            "userId": "116475677293139999278"
          }
        }
      },
      "cell_type": "code",
      "source": [
        "from pylab import*\n",
        "t=arange(0,1,0.01)\n",
        "x=t*exp(t)\n",
        "y=1+t*exp(2*t)\n",
        "plot(x,y,'b')\n",
        "grid(True)\n",
        "show()\n",
        "\n",
        "from sympy import*\n",
        "t=Symbol('t')\n",
        "d=sqrt((t*exp(t)-1)**2+(1+t*exp(2*t)-1)**2)\n",
        "f=diff(d)\n",
        "df=diff(f)\n",
        "r=0.5\n",
        "r=r-float(f.subs(t,r))/float(df.subs(t,r))\n",
        "r \n",
        "r=r-float(f.subs(t,r))/float(df.subs(t,r))\n",
        "r\n",
        "r=r-float(f.subs(t,r))/float(df.subs(t,r))\n",
        "r\n",
        "r=r-float(f.subs(t,r))/float(df.subs(t,r))\n",
        "r\n",
        "r=r-float(f.subs(t,r))/float(df.subs(t,r))\n",
        "r\n",
        "r=r-float(f.subs(t,r))/float(df.subs(t,r))\n",
        "r\n",
        "\n",
        "d.subs(t,r)\n"
      ],
      "execution_count": 19,
      "outputs": [
        {
          "output_type": "display_data",
          "data": {
            "image/png": "[encoded data removed]",
            "text/plain": [
              "<matplotlib.figure.Figure at 0x7f4c4cf35a90>"
            ]
          },
          "metadata": {
            "tags": []
          }
        },
        {
          "output_type": "execute_result",
          "data": {
            "text/plain": [
              "0.794004939848305"
            ]
          },
          "metadata": {
            "tags": []
          },
          "execution_count": 19
        }
      ]
    },
    {
      "metadata": {
        "id": "E04B0CRCA30M",
        "colab_type": "text"
      },
      "cell_type": "markdown",
      "source": [
        "Ejemplo. Encuentre una intersección de las siguientes ecuaciones en coordenadas polares\n",
        "\n",
        "$r = 2+cos(3t), r = 2 – e^t$\n",
        "\n",
        "Ecuación a resolver:\t$f(t) = 2+cos(3t) – (2 – e^t) = 0$"
      ]
    },
    {
      "metadata": {
        "id": "4mCMpCr-AdYl",
        "colab_type": "code",
        "colab": {
          "autoexec": {
            "startup": false,
            "wait_interval": 0
          },
          "base_uri": "https://localhost:8080/",
          "height": 368
        },
        "outputId": "39288dce-8bec-45cf-d96a-3c121ead5225",
        "executionInfo": {
          "status": "ok",
          "timestamp": 1527079286420,
          "user_tz": -120,
          "elapsed": 820,
          "user": {
            "displayName": "JOSE MARIA BONELO SANCHEZ",
            "photoUrl": "https://lh3.googleusercontent.com/a/default-user=s128",
            "userId": "116475677293139999278"
          }
        }
      },
      "cell_type": "code",
      "source": [
        "from pylab import*\n",
        "t=arange(-pi,2*pi,0.01)\n",
        "r=2+cos(3*t)\n",
        "polar(t,r)\t#Gráfico en coordenadas polares\n",
        "grid(True)\n",
        "show()"
      ],
      "execution_count": 20,
      "outputs": [
        {
          "output_type": "display_data",
          "data": {
            "image/png": "[encoded data removed]",
            "text/plain": [
              "<matplotlib.figure.Figure at 0x7f4c4cdcd828>"
            ]
          },
          "metadata": {
            "tags": []
          }
        }
      ]
    },
    {
      "metadata": {
        "id": "Vg8qBYSrBLMw",
        "colab_type": "code",
        "colab": {
          "autoexec": {
            "startup": false,
            "wait_interval": 0
          },
          "base_uri": "https://localhost:8080/",
          "height": 34
        },
        "outputId": "32ac275b-8f5d-4a2e-abc8-946c50b83afa",
        "executionInfo": {
          "status": "ok",
          "timestamp": 1527079441803,
          "user_tz": -120,
          "elapsed": 580,
          "user": {
            "displayName": "JOSE MARIA BONELO SANCHEZ",
            "photoUrl": "https://lh3.googleusercontent.com/a/default-user=s128",
            "userId": "116475677293139999278"
          }
        }
      },
      "cell_type": "code",
      "source": [
        "from sympy import*\n",
        "t=Symbol('t')\n",
        "f=2+cos(3*t)-(2-exp(t))\n",
        "r=-1\n",
        "df=diff(f)\n",
        "r=r-float(f.subs(t,r))/float(df.subs(t,r))\n",
        "r\n",
        "r=r-float(f.subs(t,r))/float(df.subs(t,r))\n",
        "r\n",
        "r=r-float(f.subs(t,r))/float(df.subs(t,r))\n",
        "r\n",
        "r=r-float(f.subs(t,r))/float(df.subs(t,r))\n",
        "r\n",
        "r=r-float(f.subs(t,r))/float(df.subs(t,r))\n",
        "r\n",
        "r=r-float(f.subs(t,r))/float(df.subs(t,r))\n",
        "r\n",
        "r=r-float(f.subs(t,r))/float(df.subs(t,r))\n",
        "r\n",
        "r=r-float(f.subs(t,r))/float(df.subs(t,r)) #angulo\n",
        "r\n",
        "2+cos(3*r) #radio"
      ],
      "execution_count": 24,
      "outputs": [
        {
          "output_type": "execute_result",
          "data": {
            "text/plain": [
              "1.50208660521455"
            ]
          },
          "metadata": {
            "tags": []
          },
          "execution_count": 24
        }
      ]
    },
    {
      "metadata": {
        "id": "cxjbrID-B8h0",
        "colab_type": "text"
      },
      "cell_type": "markdown",
      "source": [
        "Ejemplo. Calcule las raíces reales de $ f(x) = e^x - \\pi x = 0$ con la función newton, $E=10^{-6}$ Un gráfico para estimar los valores iniciales"
      ]
    },
    {
      "metadata": {
        "id": "tyFJ4TDhBbH3",
        "colab_type": "code",
        "colab": {
          "autoexec": {
            "startup": false,
            "wait_interval": 0
          },
          "base_uri": "https://localhost:8080/",
          "height": 355
        },
        "outputId": "ad21f8af-d4cd-4ff0-b20f-96b3fe753a8e",
        "executionInfo": {
          "status": "ok",
          "timestamp": 1527079592281,
          "user_tz": -120,
          "elapsed": 716,
          "user": {
            "displayName": "JOSE MARIA BONELO SANCHEZ",
            "photoUrl": "https://lh3.googleusercontent.com/a/default-user=s128",
            "userId": "116475677293139999278"
          }
        }
      },
      "cell_type": "code",
      "source": [
        "from sympy import*\n",
        "x=Symbol('x')\n",
        "f=exp(x)-pi*x\n",
        "plot(f,(x,0,2))"
      ],
      "execution_count": 25,
      "outputs": [
        {
          "output_type": "display_data",
          "data": {
            "image/png": "[encoded data removed]",
            "text/plain": [
              "<matplotlib.figure.Figure at 0x7f4c4ccb3a90>"
            ]
          },
          "metadata": {
            "tags": []
          }
        },
        {
          "output_type": "execute_result",
          "data": {
            "text/plain": [
              "<sympy.plotting.plot.Plot at 0x7f4c4ccc2be0>"
            ]
          },
          "metadata": {
            "tags": []
          },
          "execution_count": 25
        }
      ]
    },
    {
      "metadata": {
        "id": "48EXdXTiXVIP",
        "colab_type": "text"
      },
      "cell_type": "markdown",
      "source": [
        "Se puede programar una función que reciba la ecuación a resolver f, la variable independiente v y el valor inicial u. Adicionalmente se debe enviar un parámetro  e  para controlar la precisión requerida y otro parámetro m para el máximo de iteraciones.\n",
        "\n",
        "La función entrega la solución calculada r y el número de iteraciones realizadas i. Si el método no converge en el máximo de iteraciones previsto, r contendrá un valor nulo.\n",
        "\n",
        "Variables de entrada\n",
        "f: Ecuación a resolver\n",
        "v: Variable independiente u: Valor inicial\n",
        "e: Error esperado en la respuesta m: Máximo de iteraciones permitido\n",
        "\n",
        "Variables de salida\n",
        "r: Valor aproximado para la raíz\n",
        "i: Cantidad de iteraciones realizadas\n"
      ]
    },
    {
      "metadata": {
        "id": "eLQLjZyOX1dH",
        "colab_type": "code",
        "colab": {
          "autoexec": {
            "startup": false,
            "wait_interval": 0
          }
        }
      },
      "cell_type": "code",
      "source": [
        "from sympy import*\n",
        "def newton(f, v, u, e, m):\n",
        "    df=diff(f,v)\n",
        "    for i in range(m):\n",
        "        r=u-float(f.subs(v,u))/float(df.subs(v,u)) \n",
        "        if abs(r-u)<e:\n",
        "            return [r,i]\n",
        "        u=r \n",
        "    return "
      ],
      "execution_count": 0,
      "outputs": []
    },
    {
      "metadata": {
        "id": "FntTxqe8Canm",
        "colab_type": "text"
      },
      "cell_type": "markdown",
      "source": [
        "La primera raíz real está cerca de 0.5\n"
      ]
    },
    {
      "metadata": {
        "id": "YreW_PAmCV5f",
        "colab_type": "code",
        "colab": {
          "autoexec": {
            "startup": false,
            "wait_interval": 0
          },
          "base_uri": "https://localhost:8080/",
          "height": 51
        },
        "outputId": "1b2fac25-af31-4216-daae-2384994c943c",
        "executionInfo": {
          "status": "ok",
          "timestamp": 1527085436721,
          "user_tz": -120,
          "elapsed": 559,
          "user": {
            "displayName": "JOSE MARIA BONELO SANCHEZ",
            "photoUrl": "https://lh3.googleusercontent.com/a/default-user=s128",
            "userId": "116475677293139999278"
          }
        }
      },
      "cell_type": "code",
      "source": [
        "from sympy import*\n",
        "x=Symbol('x')\n",
        "f=exp(x)-pi*x\n",
        "[r,i]=newton(f,x,0.5,0.000001,10)\n",
        "print(r) \n",
        "print(i) "
      ],
      "execution_count": 35,
      "outputs": [
        {
          "output_type": "stream",
          "text": [
            "0.5538270366445136\n",
            "3\n"
          ],
          "name": "stdout"
        }
      ]
    },
    {
      "metadata": {
        "id": "4PnabOIDYv1O",
        "colab_type": "text"
      },
      "cell_type": "markdown",
      "source": [
        "Si se comienza con 1.5 se puede calcular la otra raíz real:"
      ]
    },
    {
      "metadata": {
        "id": "FlBtCsFyY0V1",
        "colab_type": "code",
        "colab": {
          "autoexec": {
            "startup": false,
            "wait_interval": 0
          },
          "base_uri": "https://localhost:8080/",
          "height": 51
        },
        "outputId": "a77f68f8-1ff0-4445-d0fd-36d8815ed6e7",
        "executionInfo": {
          "status": "ok",
          "timestamp": 1527085501642,
          "user_tz": -120,
          "elapsed": 628,
          "user": {
            "displayName": "JOSE MARIA BONELO SANCHEZ",
            "photoUrl": "https://lh3.googleusercontent.com/a/default-user=s128",
            "userId": "116475677293139999278"
          }
        }
      },
      "cell_type": "code",
      "source": [
        "[r,i]=newton(f,x,1.5,0.000001,10)\n",
        "print(r) \n",
        "print(i)"
      ],
      "execution_count": 36,
      "outputs": [
        {
          "output_type": "stream",
          "text": [
            "1.6385284199703631\n",
            "4\n"
          ],
          "name": "stdout"
        }
      ]
    },
    {
      "metadata": {
        "id": "Mp7xQzrBZKsM",
        "colab_type": "text"
      },
      "cell_type": "markdown",
      "source": [
        "Uso de la función solve de Sympy para obtener las raíces de la ecuacion anterior"
      ]
    },
    {
      "metadata": {
        "id": "b5QTFTQTXSjo",
        "colab_type": "code",
        "colab": {
          "autoexec": {
            "startup": false,
            "wait_interval": 0
          },
          "base_uri": "https://localhost:8080/",
          "height": 34
        },
        "outputId": "1cf526ec-8a9e-43d6-d8c3-09243a046910",
        "executionInfo": {
          "status": "ok",
          "timestamp": 1527085624659,
          "user_tz": -120,
          "elapsed": 1312,
          "user": {
            "displayName": "JOSE MARIA BONELO SANCHEZ",
            "photoUrl": "https://lh3.googleusercontent.com/a/default-user=s128",
            "userId": "116475677293139999278"
          }
        }
      },
      "cell_type": "code",
      "source": [
        "from sympy import*\n",
        "x=Symbol('x')\n",
        "f=exp(x)-pi*x\n",
        "r=solve(f)\n",
        "len(r)\t#La función solve solo permitió calcular una raíz\n",
        "float(r[0]) "
      ],
      "execution_count": 38,
      "outputs": [
        {
          "output_type": "execute_result",
          "data": {
            "text/plain": [
              "0.5538270366445136"
            ]
          },
          "metadata": {
            "tags": []
          },
          "execution_count": 38
        }
      ]
    },
    {
      "metadata": {
        "id": "xP3xWVqpZKaN",
        "colab_type": "text"
      },
      "cell_type": "markdown",
      "source": [
        ""
      ]
    },
    {
      "metadata": {
        "id": "wmf5IWJfZy-Z",
        "colab_type": "text"
      },
      "cell_type": "markdown",
      "source": [
        "        3.5 Raíces reales de sistemas de ecuaciones no-lineales"
      ]
    },
    {
      "metadata": {
        "id": "GH_cF2u6b58o",
        "colab_type": "text"
      },
      "cell_type": "markdown",
      "source": [
        "Las derivadas parciales se obtienen con la función diff y la sustitución de los valores de U  en las variables se realiza con la función subs. La solución se la obtiene con la inversa de la matriz de las derivadas parciales J. Estas funciones están en librerías de Python que deben cargarse."
      ]
    },
    {
      "metadata": {
        "id": "Hc1mcxrebsdF",
        "colab_type": "text"
      },
      "cell_type": "markdown",
      "source": [
        "No es posible reducir el sistema a una ecuación, por lo que se debe utilizar un método numérico para resolverlo como un sistema simultáneo con la fórmula propuesta:\n"
      ]
    },
    {
      "metadata": {
        "id": "q6lWwKvqblvX",
        "colab_type": "code",
        "colab": {
          "autoexec": {
            "startup": false,
            "wait_interval": 0
          }
        }
      },
      "cell_type": "code",
      "source": [
        "import numpy as np\n",
        "import sympy as sp\n",
        "#Resolución de Sistemas no lineales\n",
        "def snewton(F, V, U):             \t\t\n",
        "    n=len(F)\n",
        "    J=np.zeros([n,n],dtype=sp.Symbol)\n",
        "    T=list(np.copy(F))\n",
        "\n",
        "    for i in range(n):             \t\t\t#Construir J\n",
        "        for j in range(n):\n",
        "            J[i][j]=sp.diff(F[i],V[j])\n",
        "    for i in range(n):             \t\t\t#Evaluar J\n",
        "        for j in range(n):\n",
        "            for k in range(n):\n",
        "                J[i][j]=J[i][j].subs(V[k],float(U[k]))\n",
        "    for i in range(n):                  \t\t#Evaluar F                                             \n",
        "        for j in range(n):\n",
        "            T[i]=T[i].subs(V[j],float(U[j]))\n",
        "    J=np.array(J,float)\n",
        "    T=np.array(T,float)\n",
        "    U=U-np.dot(np.linalg.inv(J),T)       \t\t#Nuevo vector U\n",
        "    return U\n",
        "\n",
        "\n",
        "\n",
        "\n",
        "  \n",
        "        "
      ],
      "execution_count": 0,
      "outputs": []
    },
    {
      "metadata": {
        "id": "W2OW_lAMZ8GQ",
        "colab_type": "text"
      },
      "cell_type": "markdown",
      "source": [
        "Ejemplo. Encuentre las raíces reales del sistema:\n",
        "\n",
        "$f_1 (x, y)= (x- 2)^2 + (y- 1)^2+ xy - 3 = 0; f _2(x, y)= xe^{x+y}+y - 3 = 0$\n",
        "\n",
        "En el caso de dos ecuaciones con dos variables, sus gráficos pueden visualizarse en el plano. Las raíces reales son las intersecciones."
      ]
    },
    {
      "metadata": {
        "id": "w5l9jFL_bc8Z",
        "colab_type": "text"
      },
      "cell_type": "markdown",
      "source": [
        "La siguiente figura obtenida con la librería SymPy de Python muestra las dos ecuaciones en el plano X-Y:\n",
        "\n"
      ]
    },
    {
      "metadata": {
        "id": "TW_krI2-Ckm-",
        "colab_type": "code",
        "colab": {
          "autoexec": {
            "startup": false,
            "wait_interval": 0
          },
          "base_uri": "https://localhost:8080/",
          "height": 351
        },
        "outputId": "fb4ea807-2382-469d-a1c1-7765fbe1f2de",
        "executionInfo": {
          "status": "ok",
          "timestamp": 1527086210745,
          "user_tz": -120,
          "elapsed": 690,
          "user": {
            "displayName": "JOSE MARIA BONELO SANCHEZ",
            "photoUrl": "https://lh3.googleusercontent.com/a/default-user=s128",
            "userId": "116475677293139999278"
          }
        }
      },
      "cell_type": "code",
      "source": [
        "\n",
        "from pylab import*\n",
        "xr = arange(0,4,0.01)\n",
        "yr = arange(-2,4,0.01)\n",
        "[x, y] = meshgrid(xr,yr)\n",
        "f=(x-2)**2+(y-1)**2+x*y-3\n",
        "g=x*exp(x+y)+y-3\n",
        "contour(x, y, f,[0])\n",
        "contour(x, y, g,[0])\n",
        "grid(True)\n",
        "show()"
      ],
      "execution_count": 39,
      "outputs": [
        {
          "output_type": "display_data",
          "data": {
            "image/png": "[encoded data removed]",
            "text/plain": [
              "<matplotlib.figure.Figure at 0x7f4c4cd422e8>"
            ]
          },
          "metadata": {
            "tags": []
          }
        }
      ]
    },
    {
      "metadata": {
        "id": "YGLCaXjuvpVk",
        "colab_type": "code",
        "colab": {
          "autoexec": {
            "startup": false,
            "wait_interval": 0
          },
          "base_uri": "https://localhost:8080/",
          "height": 102
        },
        "outputId": "503495df-6280-496b-c8af-e84fe91e102f",
        "executionInfo": {
          "status": "ok",
          "timestamp": 1527146398284,
          "user_tz": -120,
          "elapsed": 571,
          "user": {
            "displayName": "JOSE MARIA BONELO SANCHEZ",
            "photoUrl": "https://lh3.googleusercontent.com/a/default-user=s128",
            "userId": "116475677293139999278"
          }
        }
      },
      "cell_type": "code",
      "source": [
        "from sympy import*\n",
        "\n",
        "[x,y]=symbols('x,y')\n",
        "f=x*exp(x+y)+y-3\n",
        "g=(x-2)**2+(y-1)**2+x*y-3\n",
        "F=[f,g]\n",
        "X=[x,y]\n",
        "U=[0.5,1]\n",
        "U=snewton(F,X,U)\n",
        "print(U) #[0.405451836483295 1.12180734593318]\n",
        "U=snewton(F,X,U)\n",
        "print(U) #[0.409618877363502 1.11619120947847]\n",
        "U=snewton(F,X,U)\n",
        "print(U) #[0.409627787030011 1.11618013799184]\n",
        "U=snewton(F,X,U)\n",
        "print(U) #[0.409627787064807 1.11618013794281]\n",
        "U=snewton(F,X,U)\n",
        "print(U) #[0.409627787064807 1.11618013794281]"
      ],
      "execution_count": 20,
      "outputs": [
        {
          "output_type": "stream",
          "text": [
            "[0.40545184 1.12180735]\n",
            "[0.40961888 1.11619121]\n",
            "[0.40962779 1.11618014]\n",
            "[0.40962779 1.11618014]\n",
            "[0.40962779 1.11618014]\n"
          ],
          "name": "stdout"
        }
      ]
    },
    {
      "metadata": {
        "id": "Cfjb7q4qETvO",
        "colab_type": "text"
      },
      "cell_type": "markdown",
      "source": [
        "Se observa la rápida convergencia. Para verificar que son raices de las ecuaciones deben evaluarse f,g."
      ]
    },
    {
      "metadata": {
        "id": "7q-0PlAS5rnY",
        "colab_type": "code",
        "colab": {
          "autoexec": {
            "startup": false,
            "wait_interval": 0
          },
          "base_uri": "https://localhost:8080/",
          "height": 34
        },
        "outputId": "799a3a90-ea74-442a-d34c-c84ba086d6f6",
        "executionInfo": {
          "status": "ok",
          "timestamp": 1527147295642,
          "user_tz": -120,
          "elapsed": 548,
          "user": {
            "displayName": "JOSE MARIA BONELO SANCHEZ",
            "photoUrl": "https://lh3.googleusercontent.com/a/default-user=s128",
            "userId": "116475677293139999278"
          }
        }
      },
      "cell_type": "code",
      "source": [
        "f.subs(x,U[0]).subs(y,U[1])"
      ],
      "execution_count": 21,
      "outputs": [
        {
          "output_type": "execute_result",
          "data": {
            "text/plain": [
              "8.88178419700125e-16"
            ]
          },
          "metadata": {
            "tags": []
          },
          "execution_count": 21
        }
      ]
    },
    {
      "metadata": {
        "id": "Q9qVJN2MEnFC",
        "colab_type": "code",
        "colab": {
          "autoexec": {
            "startup": false,
            "wait_interval": 0
          },
          "base_uri": "https://localhost:8080/",
          "height": 34
        },
        "outputId": "69ef8e40-9ef7-4cc0-dc1d-a4f5d2d0cf7b",
        "executionInfo": {
          "status": "ok",
          "timestamp": 1527147319877,
          "user_tz": -120,
          "elapsed": 547,
          "user": {
            "displayName": "JOSE MARIA BONELO SANCHEZ",
            "photoUrl": "https://lh3.googleusercontent.com/a/default-user=s128",
            "userId": "116475677293139999278"
          }
        }
      },
      "cell_type": "code",
      "source": [
        "g.subs(x,U[0]).subs(y,U[1])"
      ],
      "execution_count": 22,
      "outputs": [
        {
          "output_type": "execute_result",
          "data": {
            "text/plain": [
              "9.99200722162641e-16"
            ]
          },
          "metadata": {
            "tags": []
          },
          "execution_count": 22
        }
      ]
    },
    {
      "metadata": {
        "id": "vdrxJCP2EvVJ",
        "colab_type": "text"
      },
      "cell_type": "markdown",
      "source": [
        "Los valores obtenidos son muy pequeños, por lo cual se aceptan las raíces calculadas.\n",
        "\n",
        "Para calcular la otra raíz, tomamos del gráfico los valores iniciales cercanos a la raíz."
      ]
    },
    {
      "metadata": {
        "id": "LHOoTzc2Es_y",
        "colab_type": "code",
        "colab": {
          "autoexec": {
            "startup": false,
            "wait_interval": 0
          },
          "base_uri": "https://localhost:8080/",
          "height": 34
        },
        "outputId": "dea5aed8-4727-4588-ddef-12e08a86d99b",
        "executionInfo": {
          "status": "ok",
          "timestamp": 1527147513850,
          "user_tz": -120,
          "elapsed": 577,
          "user": {
            "displayName": "JOSE MARIA BONELO SANCHEZ",
            "photoUrl": "https://lh3.googleusercontent.com/a/default-user=s128",
            "userId": "116475677293139999278"
          }
        }
      },
      "cell_type": "code",
      "source": [
        "U=[2.4,-1.5]\n",
        "U=snewton(F,X,U)\n",
        "print (U)"
      ],
      "execution_count": 29,
      "outputs": [
        {
          "output_type": "stream",
          "text": [
            "[ 2.26184272 -1.53588073]\n"
          ],
          "name": "stdout"
        }
      ]
    },
    {
      "metadata": {
        "id": "FNerPFSdFEDQ",
        "colab_type": "code",
        "colab": {
          "autoexec": {
            "startup": false,
            "wait_interval": 0
          },
          "base_uri": "https://localhost:8080/",
          "height": 34
        },
        "outputId": "60f7dec4-c2f5-4dc1-c435-552c8b6a59d3",
        "executionInfo": {
          "status": "ok",
          "timestamp": 1527147540445,
          "user_tz": -120,
          "elapsed": 560,
          "user": {
            "displayName": "JOSE MARIA BONELO SANCHEZ",
            "photoUrl": "https://lh3.googleusercontent.com/a/default-user=s128",
            "userId": "116475677293139999278"
          }
        }
      },
      "cell_type": "code",
      "source": [
        "U=snewton(F,X,U)\n",
        "print (U)"
      ],
      "execution_count": 31,
      "outputs": [
        {
          "output_type": "stream",
          "text": [
            "[ 2.221421   -1.51230471]\n"
          ],
          "name": "stdout"
        }
      ]
    },
    {
      "metadata": {
        "id": "hyptuz9_Ffmd",
        "colab_type": "code",
        "colab": {
          "autoexec": {
            "startup": false,
            "wait_interval": 0
          },
          "base_uri": "https://localhost:8080/",
          "height": 34
        },
        "outputId": "40b1d75b-f112-480e-81b9-5c0bd5cab654",
        "executionInfo": {
          "status": "ok",
          "timestamp": 1527147554217,
          "user_tz": -120,
          "elapsed": 488,
          "user": {
            "displayName": "JOSE MARIA BONELO SANCHEZ",
            "photoUrl": "https://lh3.googleusercontent.com/a/default-user=s128",
            "userId": "116475677293139999278"
          }
        }
      },
      "cell_type": "code",
      "source": [
        "U=snewton(F,X,U)\n",
        "print (U)"
      ],
      "execution_count": 32,
      "outputs": [
        {
          "output_type": "stream",
          "text": [
            "[ 2.22041081 -1.5114781 ]\n"
          ],
          "name": "stdout"
        }
      ]
    },
    {
      "metadata": {
        "id": "P4mApHSyFmN9",
        "colab_type": "code",
        "colab": {
          "autoexec": {
            "startup": false,
            "wait_interval": 0
          },
          "base_uri": "https://localhost:8080/",
          "height": 34
        },
        "outputId": "979df9c8-dd1f-431b-d1d9-735806e43219",
        "executionInfo": {
          "status": "ok",
          "timestamp": 1527147561492,
          "user_tz": -120,
          "elapsed": 517,
          "user": {
            "displayName": "JOSE MARIA BONELO SANCHEZ",
            "photoUrl": "https://lh3.googleusercontent.com/a/default-user=s128",
            "userId": "116475677293139999278"
          }
        }
      },
      "cell_type": "code",
      "source": [
        "U=snewton(F,X,U)\n",
        "print (U)"
      ],
      "execution_count": 33,
      "outputs": [
        {
          "output_type": "stream",
          "text": [
            "[ 2.22041033 -1.51147761]\n"
          ],
          "name": "stdout"
        }
      ]
    },
    {
      "metadata": {
        "id": "MlEYtXfZFn_d",
        "colab_type": "code",
        "colab": {
          "autoexec": {
            "startup": false,
            "wait_interval": 0
          },
          "base_uri": "https://localhost:8080/",
          "height": 34
        },
        "outputId": "af0bc89e-6893-4cd6-e2e2-12f221a0af42",
        "executionInfo": {
          "status": "ok",
          "timestamp": 1527147583112,
          "user_tz": -120,
          "elapsed": 514,
          "user": {
            "displayName": "JOSE MARIA BONELO SANCHEZ",
            "photoUrl": "https://lh3.googleusercontent.com/a/default-user=s128",
            "userId": "116475677293139999278"
          }
        }
      },
      "cell_type": "code",
      "source": [
        "U=snewton(F,X,U)\n",
        "print (U)"
      ],
      "execution_count": 34,
      "outputs": [
        {
          "output_type": "stream",
          "text": [
            "[ 2.22041033 -1.51147761]\n"
          ],
          "name": "stdout"
        }
      ]
    },
    {
      "metadata": {
        "id": "8K4nD6aLGnw7",
        "colab_type": "text"
      },
      "cell_type": "markdown",
      "source": [
        "Comprobemos que si es una solución del sistema"
      ]
    },
    {
      "metadata": {
        "id": "yN2MQebmFtRU",
        "colab_type": "code",
        "colab": {
          "autoexec": {
            "startup": false,
            "wait_interval": 0
          },
          "base_uri": "https://localhost:8080/",
          "height": 34
        },
        "outputId": "bb7dc947-e8c3-4294-f158-53b9885557ca",
        "executionInfo": {
          "status": "ok",
          "timestamp": 1527147875584,
          "user_tz": -120,
          "elapsed": 544,
          "user": {
            "displayName": "JOSE MARIA BONELO SANCHEZ",
            "photoUrl": "https://lh3.googleusercontent.com/a/default-user=s128",
            "userId": "116475677293139999278"
          }
        }
      },
      "cell_type": "code",
      "source": [
        "f.subs(x,U[0]).subs(y,U[1])"
      ],
      "execution_count": 35,
      "outputs": [
        {
          "output_type": "execute_result",
          "data": {
            "text/plain": [
              "-1.77635683940025e-15"
            ]
          },
          "metadata": {
            "tags": []
          },
          "execution_count": 35
        }
      ]
    },
    {
      "metadata": {
        "id": "9pqRly0LG0qt",
        "colab_type": "code",
        "colab": {
          "autoexec": {
            "startup": false,
            "wait_interval": 0
          },
          "base_uri": "https://localhost:8080/",
          "height": 34
        },
        "outputId": "d2591dbb-c8de-4c03-92df-0730a9bdd867",
        "executionInfo": {
          "status": "ok",
          "timestamp": 1527147903940,
          "user_tz": -120,
          "elapsed": 1750,
          "user": {
            "displayName": "JOSE MARIA BONELO SANCHEZ",
            "photoUrl": "https://lh3.googleusercontent.com/a/default-user=s128",
            "userId": "116475677293139999278"
          }
        }
      },
      "cell_type": "code",
      "source": [
        "g.subs(x,U[0]).subs(y,U[1])"
      ],
      "execution_count": 36,
      "outputs": [
        {
          "output_type": "execute_result",
          "data": {
            "text/plain": [
              "8.88178419700125e-16"
            ]
          },
          "metadata": {
            "tags": []
          },
          "execution_count": 36
        }
      ]
    },
    {
      "metadata": {
        "id": "qdYQaYM5HslX",
        "colab_type": "text"
      },
      "cell_type": "markdown",
      "source": [
        "Metodos de Optimización Numérica."
      ]
    },
    {
      "metadata": {
        "id": "yyM1GLl5H4_A",
        "colab_type": "text"
      },
      "cell_type": "markdown",
      "source": [
        "Algoritmo del Gradiente de máximo descenso.\n",
        "            \n",
        "         Descripción y uso de las funciones \n",
        "         \n",
        "  Módulo denominado *gradiente * el cual contiene funciones de utilidad que se pueden llamar separadamente y también son los componentes de soporte para una función principal con el nombre *metodo_gradiente*.\n",
        "\n",
        "**obtener_gradiente**(f,v):\n",
        "\n",
        "  datos de Entrada:\n",
        "     f: Función multivariada\n",
        "     v: Vector de variables definidas en forma simbólica\n",
        "  \n",
        "  datos de Salida:\n",
        "     g: Vector gradiente con las derivadas parciales de f\n",
        "\n",
        "**evaluar_gradiente**(g,v,u):\n",
        "\n",
        " datos de Entrada:\n",
        "    g: Vector gradiente con las derivadas parciales de f\n",
        "    v: Vector de variables definidas en forma simbólica\n",
        "    u: Vector con valores escalares para las variables en v\n",
        "\n",
        " datos de Salida:\n",
        "    c: Vector gradiente con los componentes evaluados en el punto u.\n",
        "\n",
        "**magnitud_del_gradiente**(c):\n",
        "\n",
        " datos de Entrada:\n",
        "   c: Vector gradiente evaluado en el punto u\n",
        "\n",
        " datos de Salida:\n",
        "   norma: Máxima tasa de cambio del gradiente en el punto u\n",
        "\n",
        "**gradiente_normalizado(c) **\n",
        "\n",
        "  datos de Entrada:\n",
        "     c: Vector gradiente evaluado en el punto u\n",
        "\n",
        "datos de Salida:\n",
        "     cn: Vector gradiente normalizado evaluado en el punto u\n",
        "\n",
        "**evaluar_solucion**(f,v,u) \n",
        "\n",
        " datos de Entrada:\n",
        "     f: Función multivariada\n",
        "     v: Vector de variables definidas en forma simbólica\n",
        "     u: Vector con valores escalares para las variables en v\n",
        "    \n",
        "  datos de Salida:\n",
        "     fm: Valor actual de la solución en el punto u.\n",
        "     \n",
        "\n",
        "**calcular_paso**(f,g,v,u) \n",
        "\n",
        " datos de Entrada:\n",
        "  f: Función multivariada\n",
        "  g: Vector gradiente con las derivadas parciales de f\n",
        "  v: Vector de variables definidas en forma simbólica\n",
        "  u: Vector con valores escalares para las variables en v \n",
        "  \n",
        "  datos de Salida:\n",
        "     s: Valor  estimado para el tamaño del paso de avance\n",
        "\n",
        "\n",
        "**metodo_gradiente**(f,v,u,e,m,imp=0)\n",
        "\n",
        " datos de Entrada:\n",
        "  f: Función multivariada\n",
        "  v: Vector de variables definidas en forma simbólica\n",
        "  u: Vector con valores escalares iniciales para las variables en v\n",
        "  e:Criterio de convergencia y precisión para el gradiente\n",
        " m: Cantidad máxima permitida para las iteraciones\n",
        " imp: Parámetro opcional. Si se lo omite no se mostrarán los     \n",
        "          resultados intermedios pero si se le asigna algún valor   \n",
        "          mayor a cero, se mostrarán los valores calculados en cada \n",
        "          iteración.\n",
        " \n",
        " datos de Salida:\n",
        "          Si el método converge\n",
        "                    uk: Vector solución calculado en la última iteración\n",
        "                    fm: Valor de la función evaluada en la solución \n",
        "                    \n",
        "  Si el método no converge entrega un vector nulo\n",
        "\n"
      ]
    },
    {
      "metadata": {
        "id": "zEfHkdhcTu3d",
        "colab_type": "code",
        "colab": {
          "autoexec": {
            "startup": false,
            "wait_interval": 0
          }
        }
      },
      "cell_type": "code",
      "source": [
        "#Método del gradiente de máximo descenso from sympy import*\n",
        "from sympy import*\n",
        "from sympy.plotting import* \n",
        "import numpy as np\n",
        "\n",
        "def obtener_gradiente(f,v):\n",
        "  n=len(v)\n",
        "  g=[]\n",
        "  for i in range(n): \n",
        "      d=diff(f,v[i]) \n",
        "      g=g+[d]\n",
        "  return g\n",
        "\n",
        "def evaluar_gradiente(g,v,u):\n",
        "  n=len(v)\n",
        "  c=[]\n",
        "  for i in range(n):\n",
        "    t=g[i]\n",
        "    for j in range(n):\n",
        "          t=t.subs(v[j],u[j])\n",
        "    c=c+[float(t)] \n",
        "  return c\n",
        "\n",
        "def magnitud_del_gradiente(c):\n",
        "  norma=sqrt(np.dot(c,c))\n",
        "  return norma\n",
        "\n",
        "def gradiente_normalizado(c): \n",
        "  norma=magnitud_del_gradiente(c)\n",
        "  t=list(np.array(c)/norma) \n",
        "  cn=[]\n",
        "  for i in range(len(c)): \n",
        "      cn=cn+[float(t[i])]\n",
        "  return cn\n",
        "\n",
        "def evaluar_solucion(f,v,u):\n",
        "    fm=f.subs(v[0],u[0])\n",
        "    for i in range(1,len(v)):\n",
        "        fm=fm.subs(v[i],u[i])\n",
        "    return fm\n",
        "def calcular_paso(f,g,v,u):\n",
        "    c=evaluar_gradiente(g,v,u)\n",
        "    cn=gradiente_normalizado(c) \n",
        "    t=Symbol('t')\n",
        "    xt=[]\n",
        "    for i in range(len(v)):\n",
        "        xt=xt+[float(u[i])-t*float(cn[i])]\n",
        "    fs=f.subs(v[0],xt[0]) \n",
        "    for i in range(1,len(v)):\n",
        "        fs=fs.subs(v[i],xt[i])\n",
        "    df=diff(fs,t) \n",
        "    ddf=diff(df,t)\n",
        "    s=1\n",
        "    for i in range(5):\n",
        "        s=s-float(df.subs(t,s))/float(ddf.subs(t,s)) \n",
        "    return s\n",
        "\n",
        "def metodo_gradiente(f,v,u,e,m,imp=0):\n",
        "  u0=u.copy()\n",
        "  g=obtener_gradiente(f,v)\n",
        "  for k in range(m): \n",
        "      c=evaluar_gradiente(g,v,u0) \n",
        "      norma=magnitud_del_gradiente(c)\n",
        "      if norma<e:\n",
        "          fm=evaluar_solucion(f,v,u0) \n",
        "          return u0,fm\n",
        "      s=calcular_paso(f,g,v,u0)\n",
        "      cn=gradiente_normalizado(c)\n",
        "      uk=[]\n",
        "      for i in range(len(c)): \n",
        "          uk=uk+[float(u0[i])-s*float(cn[i])]\n",
        "      u0=uk.copy()\n",
        "      if imp>0:\n",
        "          print('k=',k+1,' s=',s,' vector=',u0)\n",
        "  return [],None"
      ],
      "execution_count": 0,
      "outputs": []
    },
    {
      "metadata": {
        "id": "tfE0mj82bdtt",
        "colab_type": "text"
      },
      "cell_type": "markdown",
      "source": [
        "Calcular el mínimo de $f(x,y)=2x^2-xy+y^2-7y$. Graficar y mostrar las iteraciones y resultados\n"
      ]
    },
    {
      "metadata": {
        "id": "KsMrnEtsG7S8",
        "colab_type": "code",
        "colab": {
          "autoexec": {
            "startup": false,
            "wait_interval": 0
          },
          "base_uri": "https://localhost:8080/",
          "height": 466
        },
        "outputId": "41142d10-63c2-44d8-fefb-de7a7b830311",
        "executionInfo": {
          "status": "ok",
          "timestamp": 1527153705501,
          "user_tz": -120,
          "elapsed": 1721,
          "user": {
            "displayName": "JOSE MARIA BONELO SANCHEZ",
            "photoUrl": "https://lh3.googleusercontent.com/a/default-user=s128",
            "userId": "116475677293139999278"
          }
        }
      },
      "cell_type": "code",
      "source": [
        "x,y=symbols('x,y')\n",
        "f=2*x**2-x*y+y**2-7*y\n",
        "plot3d(f,(x,-10,10),(y,-10,10))\n",
        "v=[x,y]\n",
        "u=[0,0]\n",
        "uk,fm=metodo_gradiente(f,v,u,0.01,20,1)\n",
        "k= 1\n",
        "s= 3.5\n",
        "vector= [0.0, 3.5]\n",
        "k= 2\n",
        "s= 0.875\t\n",
        "vector= [0.875, 3.5]\n",
        "k= 3\n",
        "s= 0.4375\n",
        "vector= [0.875, 3.9375]\n",
        "k= 4\t\n",
        "s= 0.109375\n",
        "vector= [0.984375, 3.9375]\n",
        "k= 5\n",
        "s= 0.0546875\n",
        "vector= [0.984375, 3.9921875]\n",
        "k= 6\n",
        "s= 0.013671875\n",
        "vector= [0.998046875, 3.9921875]\n",
        "k= 7\n",
        "s= 0.0068359375\n",
        "vector= [0.998046875, 3.9990234375]\n",
        "uk\n",
        "fm\n",
        "\n",
        "\n"
      ],
      "execution_count": 69,
      "outputs": [
        {
          "output_type": "display_data",
          "data": {
            "image/png": "[encoded data removed]",
            "text/plain": [
              "<matplotlib.figure.Figure at 0x7fc7a0c12b38>"
            ]
          },
          "metadata": {
            "tags": []
          }
        },
        {
          "output_type": "stream",
          "text": [
            "k= 1  s= 3.5  vector= [0.0, 3.5]\n",
            "k= 2  s= 0.875  vector= [0.875, 3.5]\n",
            "k= 3  s= 0.4375  vector= [0.875, 3.9375]\n",
            "k= 4  s= 0.109375  vector= [0.984375, 3.9375]\n",
            "k= 5  s= 0.0546875  vector= [0.984375, 3.9921875]\n",
            "k= 6  s= 0.013671875  vector= [0.998046875, 3.9921875]\n",
            "k= 7  s= 0.0068359375  vector= [0.998046875, 3.9990234375]\n"
          ],
          "name": "stdout"
        },
        {
          "output_type": "execute_result",
          "data": {
            "text/plain": [
              "-13.9999933242798"
            ]
          },
          "metadata": {
            "tags": []
          },
          "execution_count": 69
        }
      ]
    },
    {
      "metadata": {
        "id": "Uw1nXvcpbtoT",
        "colab_type": "code",
        "colab": {
          "autoexec": {
            "startup": false,
            "wait_interval": 0
          },
          "base_uri": "https://localhost:8080/",
          "height": 34
        },
        "outputId": "832d99b7-dad0-43f9-ae10-73187a015e55",
        "executionInfo": {
          "status": "ok",
          "timestamp": 1527153677018,
          "user_tz": -120,
          "elapsed": 532,
          "user": {
            "displayName": "JOSE MARIA BONELO SANCHEZ",
            "photoUrl": "https://lh3.googleusercontent.com/a/default-user=s128",
            "userId": "116475677293139999278"
          }
        }
      },
      "cell_type": "code",
      "source": [
        "\n"
      ],
      "execution_count": 66,
      "outputs": [
        {
          "output_type": "execute_result",
          "data": {
            "text/plain": [
              "[0.998046875, 3.9990234375]"
            ]
          },
          "metadata": {
            "tags": []
          },
          "execution_count": 66
        }
      ]
    },
    {
      "metadata": {
        "id": "FqwqeOB5c9CK",
        "colab_type": "code",
        "colab": {
          "autoexec": {
            "startup": false,
            "wait_interval": 0
          },
          "base_uri": "https://localhost:8080/",
          "height": 34
        },
        "outputId": "68dffb04-0df8-4d5d-bcac-e04f0606bc68",
        "executionInfo": {
          "status": "ok",
          "timestamp": 1527153680716,
          "user_tz": -120,
          "elapsed": 573,
          "user": {
            "displayName": "JOSE MARIA BONELO SANCHEZ",
            "photoUrl": "https://lh3.googleusercontent.com/a/default-user=s128",
            "userId": "116475677293139999278"
          }
        }
      },
      "cell_type": "code",
      "source": [
        "fm"
      ],
      "execution_count": 67,
      "outputs": [
        {
          "output_type": "execute_result",
          "data": {
            "text/plain": [
              "-13.9999933242798"
            ]
          },
          "metadata": {
            "tags": []
          },
          "execution_count": 67
        }
      ]
    },
    {
      "metadata": {
        "id": "TPi25taxdNFW",
        "colab_type": "text"
      },
      "cell_type": "markdown",
      "source": [
        "Calcular el mínimo de $f(x,y)=2x^2-xy+y^2-7y$. Elegir otro vector inicial. Mostrar resultados.\n"
      ]
    },
    {
      "metadata": {
        "id": "RvNdbf66c97K",
        "colab_type": "code",
        "colab": {
          "autoexec": {
            "startup": false,
            "wait_interval": 0
          },
          "base_uri": "https://localhost:8080/",
          "height": 34
        },
        "outputId": "e292fdcc-3e49-4417-bd4b-0f6e3d2c106e",
        "executionInfo": {
          "status": "ok",
          "timestamp": 1527153824136,
          "user_tz": -120,
          "elapsed": 574,
          "user": {
            "displayName": "JOSE MARIA BONELO SANCHEZ",
            "photoUrl": "https://lh3.googleusercontent.com/a/default-user=s128",
            "userId": "116475677293139999278"
          }
        }
      },
      "cell_type": "code",
      "source": [
        "x,y=symbols('x,y')\n",
        "v=[x,y]\n",
        "u=[5,5]\n",
        "uk,fm=metodo_gradiente(f,v,u,0.01,20)\n",
        "uk"
      ],
      "execution_count": 70,
      "outputs": [
        {
          "output_type": "execute_result",
          "data": {
            "text/plain": [
              "[1.001147654264687, 4.000286913566171]"
            ]
          },
          "metadata": {
            "tags": []
          },
          "execution_count": 70
        }
      ]
    },
    {
      "metadata": {
        "id": "XClplVdJdMfY",
        "colab_type": "text"
      },
      "cell_type": "markdown",
      "source": [
        ""
      ]
    },
    {
      "metadata": {
        "id": "xG5hoF2EdmAz",
        "colab_type": "code",
        "colab": {
          "autoexec": {
            "startup": false,
            "wait_interval": 0
          },
          "base_uri": "https://localhost:8080/",
          "height": 34
        },
        "outputId": "5a590026-cc29-4306-cc65-ad6636c71c61",
        "executionInfo": {
          "status": "ok",
          "timestamp": 1527153847250,
          "user_tz": -120,
          "elapsed": 503,
          "user": {
            "displayName": "JOSE MARIA BONELO SANCHEZ",
            "photoUrl": "https://lh3.googleusercontent.com/a/default-user=s128",
            "userId": "116475677293139999278"
          }
        }
      },
      "cell_type": "code",
      "source": [
        "fm"
      ],
      "execution_count": 71,
      "outputs": [
        {
          "output_type": "execute_result",
          "data": {
            "text/plain": [
              "-13.9999976127376"
            ]
          },
          "metadata": {
            "tags": []
          },
          "execution_count": 71
        }
      ]
    },
    {
      "metadata": {
        "id": "6SG3X8kYdubT",
        "colab_type": "text"
      },
      "cell_type": "markdown",
      "source": [
        "Calcular el mínimo de $f(x,y)=x^2+2y^2cos(x+y+1)+xy$. Graficar y mostrar los resultados."
      ]
    },
    {
      "metadata": {
        "id": "sTW2ZGf-dmmd",
        "colab_type": "code",
        "colab": {
          "autoexec": {
            "startup": false,
            "wait_interval": 0
          },
          "base_uri": "https://localhost:8080/",
          "height": 347
        },
        "outputId": "ffa07a81-1934-4fae-86c3-2aebad8157bb",
        "executionInfo": {
          "status": "ok",
          "timestamp": 1527153972842,
          "user_tz": -120,
          "elapsed": 1661,
          "user": {
            "displayName": "JOSE MARIA BONELO SANCHEZ",
            "photoUrl": "https://lh3.googleusercontent.com/a/default-user=s128",
            "userId": "116475677293139999278"
          }
        }
      },
      "cell_type": "code",
      "source": [
        "x,y=symbols('x,y')\n",
        "f=x**2+2*y**2+cos(x+y+1)+x*y\n",
        "plot3d(f,(x,-4,4),(y,-4,4))\n",
        "v=[x,y]\n",
        "u=[1,1]\n",
        "uk,fm=metodo_gradiente(f,v,u,0.001,20)\n",
        "uk\n",
        "\n"
      ],
      "execution_count": 74,
      "outputs": [
        {
          "output_type": "display_data",
          "data": {
            "image/png": "[encoded data removed]",
            "text/plain": [
              "<matplotlib.figure.Figure at 0x7fc7a0dee978>"
            ]
          },
          "metadata": {
            "tags": []
          }
        },
        {
          "output_type": "execute_result",
          "data": {
            "text/plain": [
              "[0.42864627450129655, 0.1429352945969649]"
            ]
          },
          "metadata": {
            "tags": []
          },
          "execution_count": 74
        }
      ]
    },
    {
      "metadata": {
        "id": "Q-wPkvRUdo1Z",
        "colab_type": "text"
      },
      "cell_type": "markdown",
      "source": [
        ""
      ]
    },
    {
      "metadata": {
        "id": "wLrD2A2leHUx",
        "colab_type": "code",
        "colab": {
          "autoexec": {
            "startup": false,
            "wait_interval": 0
          }
        }
      },
      "cell_type": "code",
      "source": [
        ""
      ],
      "execution_count": 0,
      "outputs": []
    },
    {
      "metadata": {
        "id": "ZDSYpuCeeGu4",
        "colab_type": "code",
        "colab": {
          "autoexec": {
            "startup": false,
            "wait_interval": 0
          },
          "base_uri": "https://localhost:8080/",
          "height": 34
        },
        "outputId": "4bc2469c-ab3e-4674-b9bf-577083c185f8",
        "executionInfo": {
          "status": "ok",
          "timestamp": 1527153981299,
          "user_tz": -120,
          "elapsed": 525,
          "user": {
            "displayName": "JOSE MARIA BONELO SANCHEZ",
            "photoUrl": "https://lh3.googleusercontent.com/a/default-user=s128",
            "userId": "116475677293139999278"
          }
        }
      },
      "cell_type": "code",
      "source": [
        "fm"
      ],
      "execution_count": 75,
      "outputs": [
        {
          "output_type": "execute_result",
          "data": {
            "text/plain": [
              "0.285082064827950"
            ]
          },
          "metadata": {
            "tags": []
          },
          "execution_count": 75
        }
      ]
    },
    {
      "metadata": {
        "id": "EuPt6aYleqf-",
        "colab_type": "text"
      },
      "cell_type": "markdown",
      "source": [
        "Calcular el mínimo de \n",
        "\n",
        "$f(x,y,z)=5(x-1)^2+3(y+2)^2+4(z+3)^{2}+xyz+1$.\n",
        "\n",
        "Mostrar los resultados."
      ]
    },
    {
      "metadata": {
        "id": "BsM1WoO_ep78",
        "colab_type": "text"
      },
      "cell_type": "markdown",
      "source": [
        ""
      ]
    },
    {
      "metadata": {
        "id": "gWp4N9ryfgPr",
        "colab_type": "code",
        "colab": {
          "autoexec": {
            "startup": false,
            "wait_interval": 0
          },
          "base_uri": "https://localhost:8080/",
          "height": 34
        },
        "outputId": "435255b9-e7a4-4262-fbd2-6a0cf394653d",
        "executionInfo": {
          "status": "ok",
          "timestamp": 1527154447787,
          "user_tz": -120,
          "elapsed": 592,
          "user": {
            "displayName": "JOSE MARIA BONELO SANCHEZ",
            "photoUrl": "https://lh3.googleusercontent.com/a/default-user=s128",
            "userId": "116475677293139999278"
          }
        }
      },
      "cell_type": "code",
      "source": [
        "\n",
        "x,y,z=symbols('x,y,z')\n",
        "f=5*(x-1)**2+3*(y+2)**2+4*(z+3)**2+x*y*z+1\n",
        "v=[x,y,z]\n",
        "u=[0,0,0]\n",
        "uk,fm=metodo_gradiente(f,v,u,0.01,20)\n",
        "uk"
      ],
      "execution_count": 79,
      "outputs": [
        {
          "output_type": "execute_result",
          "data": {
            "text/plain": [
              "[0.4909226771078404, -1.762849967729951, -2.8919840590397894]"
            ]
          },
          "metadata": {
            "tags": []
          },
          "execution_count": 79
        }
      ]
    },
    {
      "metadata": {
        "id": "j-H2AMlIfwBA",
        "colab_type": "code",
        "colab": {
          "autoexec": {
            "startup": false,
            "wait_interval": 0
          },
          "base_uri": "https://localhost:8080/",
          "height": 34
        },
        "outputId": "7d389b00-62ac-46e6-df9f-e6aeeee1b63e",
        "executionInfo": {
          "status": "ok",
          "timestamp": 1527154449856,
          "user_tz": -120,
          "elapsed": 355,
          "user": {
            "displayName": "JOSE MARIA BONELO SANCHEZ",
            "photoUrl": "https://lh3.googleusercontent.com/a/default-user=s128",
            "userId": "116475677293139999278"
          }
        }
      },
      "cell_type": "code",
      "source": [
        "fm"
      ],
      "execution_count": 80,
      "outputs": [
        {
          "output_type": "execute_result",
          "data": {
            "text/plain": [
              "5.01397838490301"
            ]
          },
          "metadata": {
            "tags": []
          },
          "execution_count": 80
        }
      ]
    },
    {
      "metadata": {
        "id": "0XxLe4Y0haJw",
        "colab_type": "text"
      },
      "cell_type": "markdown",
      "source": [
        "Calcular el mínimo de la siguiente función. Mostrar los resultados $f(x_1,x_2,x_3,x_4)=5(x_1-1)^2+3(x_2-2)^2+4(x_3+3)^2+(x_4-1)^ 4-x_1x_2x_3x_4 +5$"
      ]
    },
    {
      "metadata": {
        "id": "R26xmexKf4Yn",
        "colab_type": "code",
        "colab": {
          "autoexec": {
            "startup": false,
            "wait_interval": 0
          },
          "base_uri": "https://localhost:8080/",
          "height": 85
        },
        "outputId": "13971366-f5fd-4791-fbdb-fe2a0b63bfb5",
        "executionInfo": {
          "status": "ok",
          "timestamp": 1527154968814,
          "user_tz": -120,
          "elapsed": 2202,
          "user": {
            "displayName": "JOSE MARIA BONELO SANCHEZ",
            "photoUrl": "https://lh3.googleusercontent.com/a/default-user=s128",
            "userId": "116475677293139999278"
          }
        }
      },
      "cell_type": "code",
      "source": [
        "x1,x2,x3,x4=symbols('x1,x2,x3,x4')\n",
        "f=5*(x1-1)**2+3*(x2-2)**2+4*(x3+3)**2+(x4-1)**4-x1*x2*x3*x4+5\n",
        "v=[x1,x2,x3,x4]\n",
        "u=[0,0,0,0]\n",
        "uk,fm=metodo_gradiente(f,v,u,0.01,20)\n",
        "uk"
      ],
      "execution_count": 81,
      "outputs": [
        {
          "output_type": "execute_result",
          "data": {
            "text/plain": [
              "[1.1570991258533807,\n",
              " 2.141077839354267,\n",
              " -3.073828945432744,\n",
              " -0.2393594340587935]"
            ]
          },
          "metadata": {
            "tags": []
          },
          "execution_count": 81
        }
      ]
    },
    {
      "metadata": {
        "id": "wojIVIexh4AX",
        "colab_type": "code",
        "colab": {
          "autoexec": {
            "startup": false,
            "wait_interval": 0
          },
          "base_uri": "https://localhost:8080/",
          "height": 34
        },
        "outputId": "f60360fc-0dcc-4635-ee79-bcd359adc122",
        "executionInfo": {
          "status": "ok",
          "timestamp": 1527154977503,
          "user_tz": -120,
          "elapsed": 516,
          "user": {
            "displayName": "JOSE MARIA BONELO SANCHEZ",
            "photoUrl": "https://lh3.googleusercontent.com/a/default-user=s128",
            "userId": "116475677293139999278"
          }
        }
      },
      "cell_type": "code",
      "source": [
        "fm"
      ],
      "execution_count": 82,
      "outputs": [
        {
          "output_type": "execute_result",
          "data": {
            "text/plain": [
              "5.74146881516544"
            ]
          },
          "metadata": {
            "tags": []
          },
          "execution_count": 82
        }
      ]
    },
    {
      "metadata": {
        "id": "mrcF5EE6h6if",
        "colab_type": "code",
        "colab": {
          "autoexec": {
            "startup": false,
            "wait_interval": 0
          }
        }
      },
      "cell_type": "code",
      "source": [
        ""
      ],
      "execution_count": 0,
      "outputs": []
    }
  ]
}