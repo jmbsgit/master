{
 "cells": [
  {
   "cell_type": "code",
   "execution_count": 4,
   "metadata": {},
   "outputs": [
    {
     "name": "stdout",
     "output_type": "stream",
     "text": [
      "f(x):x**2\n",
      "x0:1\n",
      "x1:10\n",
      "Datos incorrectos\n"
     ]
    },
    {
     "data": {
      "image/png": "[encoded data removed]",
      "text/plain": [
       "<matplotlib.figure.Figure at 0x8ac7208>"
      ]
     },
     "metadata": {},
     "output_type": "display_data"
    },
    {
     "data": {
      "text/plain": [
       "[<matplotlib.lines.Line2D at 0xaa00a58>]"
      ]
     },
     "execution_count": 4,
     "metadata": {},
     "output_type": "execute_result"
    }
   ],
   "source": [
    "# -*- coding: utf-8 -*-\n",
    "\"\"\"\n",
    "Created on Wed Dec 20 11:51:13 2017\n",
    "\n",
    "@author: josemaria.bonelo\n",
    "\"\"\"\n",
    "\n",
    "__author__ = 'josemaria.bonelo'\n",
    " \n",
    "ERROR = 1E-6\n",
    "def ff1(x):\n",
    "    return 1+x**3\n",
    "#Entradas\n",
    "ec = raw_input('f(x):')\n",
    "x0 = float(raw_input('x0:'))\n",
    "x1 = float(raw_input('x1:'))\n",
    "#Proceso\n",
    "f0 = eval(ec, {'x': x0}) #f(x0)\n",
    "f1 = eval(ec, {'x': x1}) #f(x1)\n",
    "f2 = 1E10\n",
    "if f0 * f1 < 0:\n",
    "    while abs(f2) > ERROR:\n",
    "        x2 = (x0 + x1) / 2\n",
    "        f2 = eval(ec, {'x': x2}) #f(x2)\n",
    "        if f1 * f2 < 0:\n",
    "            x0 = x2\n",
    "        if f0 * f2 < 0:\n",
    "            x1 = x2\n",
    "    respuesta = {'x': x2}\n",
    "else:\n",
    "    respuesta = 'Datos incorrectos'\n",
    "#Salidas\n",
    "print respuesta\n",
    "def ff2(x):\n",
    "    return ec\n",
    "import pylab as pl\n",
    "import numpy as np\n",
    "\n",
    "X = np.linspace(-np.pi, np.pi, 256, endpoint=True)\n",
    "\n",
    "C, S = np.cos(X), np.sin(X)\n",
    "#pl.plot(X, C)\n",
    "#pl.plot(X, S)\n",
    "\n",
    "pl.show()\n",
    "\n",
    "def ff3(x):\n",
    "    return eval(ec)\n",
    "\n",
    "x = range(-10,10)\n",
    "pl.plot(x,[ff3(i) for i in x])"
   ]
  },
  {
   "cell_type": "code",
   "execution_count": null,
   "metadata": {
    "collapsed": true
   },
   "outputs": [],
   "source": []
  },
  {
   "cell_type": "code",
   "execution_count": 2,
   "metadata": {},
   "outputs": [
    {
     "ename": "TypeError",
     "evalue": "unsupported operand type(s) for ** or pow(): 'list' and 'int'",
     "output_type": "error",
     "traceback": [
      "\u001b[1;31m---------------------------------------------------------------------------\u001b[0m",
      "\u001b[1;31mTypeError\u001b[0m                                 Traceback (most recent call last)",
      "\u001b[1;32m<ipython-input-2-65d0bca1ee01>\u001b[0m in \u001b[0;36m<module>\u001b[1;34m()\u001b[0m\n\u001b[1;32m----> 1\u001b[1;33m \u001b[0mx\u001b[0m\u001b[1;33m**\u001b[0m\u001b[1;36m3\u001b[0m\u001b[1;33m\u001b[0m\u001b[0m\n\u001b[0m",
      "\u001b[1;31mTypeError\u001b[0m: unsupported operand type(s) for ** or pow(): 'list' and 'int'"
     ]
    }
   ],
   "source": [
    "x**3\n"
   ]
  },
  {
   "cell_type": "code",
   "execution_count": 3,
   "metadata": {},
   "outputs": [
    {
     "ename": "TypeError",
     "evalue": "can only concatenate list (not \"int\") to list",
     "output_type": "error",
     "traceback": [
      "\u001b[1;31m---------------------------------------------------------------------------\u001b[0m",
      "\u001b[1;31mTypeError\u001b[0m                                 Traceback (most recent call last)",
      "\u001b[1;32m<ipython-input-3-f4ad78ff6337>\u001b[0m in \u001b[0;36m<module>\u001b[1;34m()\u001b[0m\n\u001b[1;32m----> 1\u001b[1;33m \u001b[0mx\u001b[0m\u001b[1;33m+\u001b[0m\u001b[1;36m2\u001b[0m\u001b[1;33m\u001b[0m\u001b[0m\n\u001b[0m",
      "\u001b[1;31mTypeError\u001b[0m: can only concatenate list (not \"int\") to list"
     ]
    }
   ],
   "source": [
    "x+2"
   ]
  },
  {
   "cell_type": "code",
   "execution_count": null,
   "metadata": {
    "collapsed": true
   },
   "outputs": [],
   "source": []
  },
  {
   "cell_type": "code",
   "execution_count": null,
   "metadata": {
    "collapsed": true
   },
   "outputs": [],
   "source": [
    "x"
   ]
  }
 ],
 "metadata": {
  "kernelspec": {
   "display_name": "Python 2",
   "language": "python",
   "name": "python2"
  },
  "language_info": {
   "codemirror_mode": {
    "name": "ipython",
    "version": 2
   },
   "file_extension": ".py",
   "mimetype": "text/x-python",
   "name": "python",
   "nbconvert_exporter": "python",
   "pygments_lexer": "ipython2",
   "version": "2.7.13"
  }
 },
 "nbformat": 4,
 "nbformat_minor": 2
}
